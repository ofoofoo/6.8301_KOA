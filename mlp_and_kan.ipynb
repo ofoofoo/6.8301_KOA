{
  "nbformat": 4,
  "nbformat_minor": 0,
  "metadata": {
    "colab": {
      "provenance": [],
      "gpuType": "T4",
      "authorship_tag": "ABX9TyN1Pvmg1C81tkcKZ1/Azr6X",
      "include_colab_link": true
    },
    "kernelspec": {
      "name": "python3",
      "display_name": "Python 3"
    },
    "language_info": {
      "name": "python"
    },
    "accelerator": "GPU"
  },
  "cells": [
    {
      "cell_type": "markdown",
      "metadata": {
        "id": "view-in-github",
        "colab_type": "text"
      },
      "source": [
        "<a href=\"https://colab.research.google.com/github/ofoofoo/MoEKAN/blob/main/mlp_and_kan.ipynb\" target=\"_parent\"><img src=\"https://colab.research.google.com/assets/colab-badge.svg\" alt=\"Open In Colab\"/></a>"
      ]
    },
    {
      "cell_type": "code",
      "source": [
        "import torch\n",
        "import torch.nn as nn\n",
        "import torch.optim as optim\n",
        "import torchvision\n",
        "import torchvision.transforms as transforms\n",
        "import matplotlib.pyplot as plt\n",
        "import numpy as np\n",
        "from torch.utils.data import DataLoader\n",
        "from tqdm import tqdm"
      ],
      "metadata": {
        "id": "ImcLVdSRcVbv"
      },
      "execution_count": 47,
      "outputs": []
    },
    {
      "cell_type": "code",
      "source": [
        "# Define the MLP model\n",
        "class MLP(nn.Module):\n",
        "    def __init__(self):\n",
        "        super(MLP, self).__init__()\n",
        "        self.fc1 = nn.Linear(32 * 32 * 3, 512)\n",
        "        self.fc2 = nn.Linear(512, 256)\n",
        "        self.fc3 = nn.Linear(256, 10)\n",
        "\n",
        "    def forward(self, x):\n",
        "        x = x.view(x.size(0), -1)\n",
        "        x = torch.relu(self.fc1(x))\n",
        "        x = torch.relu(self.fc2(x))\n",
        "        x = self.fc3(x)\n",
        "        return x\n",
        "\n",
        "# Define transforms for the data\n",
        "transform = transforms.Compose([\n",
        "    transforms.ToTensor(),\n",
        "    transforms.Normalize((0.5, 0.5, 0.5), (0.5, 0.5, 0.5))\n",
        "])\n",
        "\n",
        "# Load CIFAR-10 dataset\n",
        "trainset = torchvision.datasets.CIFAR10(root='./data', train=True, download=True, transform=transform)\n",
        "trainloader = torch.utils.data.DataLoader(trainset, batch_size=32, shuffle=True, num_workers=2)\n",
        "\n",
        "testset = torchvision.datasets.CIFAR10(root='./data', train=False, download=True, transform=transform)\n",
        "testloader = torch.utils.data.DataLoader(testset, batch_size=32, shuffle=False, num_workers=2)\n",
        "\n",
        "# Initialize the model, loss function, and optimizer\n",
        "model = MLP()\n",
        "criterion = nn.CrossEntropyLoss()\n",
        "optimizer = optim.Adam(model.parameters(), lr=0.001)\n",
        "\n",
        "# Training loop\n",
        "validation_accuracies_mlp_cifar10 = []\n",
        "\n",
        "with torch.no_grad():\n",
        "    for inputs, labels in testloader:\n",
        "        outputs = model(inputs)\n",
        "        _, predicted = torch.max(outputs, 1)\n",
        "\n",
        "validation_accuracy = 100 * (predicted == labels).sum().item() / labels.size(0)\n",
        "validation_accuracies_mlp_cifar10.append(validation_accuracy)\n",
        "print(f\"Epoch {0}, Validation Accuracy: {validation_accuracy:.2f}%\")\n",
        "\n",
        "for epoch in range(20):  # Number of epochs\n",
        "    running_loss = 0.0\n",
        "    correct = 0\n",
        "    total = 0\n",
        "\n",
        "    # Training\n",
        "    model.train()\n",
        "    for inputs, labels in trainloader:\n",
        "        optimizer.zero_grad()\n",
        "        outputs = model(inputs)\n",
        "        loss = criterion(outputs, labels)\n",
        "        loss.backward()\n",
        "        optimizer.step()\n",
        "        running_loss += loss.item()\n",
        "\n",
        "    # Validation\n",
        "    model.eval()\n",
        "    with torch.no_grad():\n",
        "        for inputs, labels in testloader:\n",
        "            outputs = model(inputs)\n",
        "            _, predicted = torch.max(outputs, 1)\n",
        "            total += labels.size(0)\n",
        "            correct += (predicted == labels).sum().item()\n",
        "\n",
        "    validation_accuracy = 100 * correct / total\n",
        "    validation_accuracies_mlp_cifar10.append(validation_accuracy)\n",
        "    print(f\"Epoch {epoch+1}, Validation Accuracy: {validation_accuracy:.2f}%\")\n",
        "\n",
        "print('Finished Training')\n",
        "\n",
        "# Output the model and validation accuracies\n",
        "\n",
        "print(\"Validation accuracies for each epoch:\")\n",
        "print(validation_accuracies_mlp_cifar10)\n",
        "\n",
        "torch.save(model.state_dict(), 'cifar10_mlp_model_state_dict.pth')"
      ],
      "metadata": {
        "colab": {
          "base_uri": "https://localhost:8080/"
        },
        "id": "LKbgIlY6XvnM",
        "outputId": "74887c78-072d-4862-9c73-615608745b77"
      },
      "execution_count": 48,
      "outputs": [
        {
          "output_type": "stream",
          "name": "stdout",
          "text": [
            "Files already downloaded and verified\n",
            "Files already downloaded and verified\n"
          ]
        },
        {
          "output_type": "stream",
          "name": "stderr",
          "text": [
            "/usr/lib/python3.10/multiprocessing/popen_fork.py:66: RuntimeWarning: os.fork() was called. os.fork() is incompatible with multithreaded code, and JAX is multithreaded, so this will likely lead to a deadlock.\n",
            "  self.pid = os.fork()\n",
            "/usr/lib/python3.10/multiprocessing/popen_fork.py:66: RuntimeWarning: os.fork() was called. os.fork() is incompatible with multithreaded code, and JAX is multithreaded, so this will likely lead to a deadlock.\n",
            "  self.pid = os.fork()\n"
          ]
        },
        {
          "output_type": "stream",
          "name": "stdout",
          "text": [
            "Epoch 0, Validation Accuracy: 0.00%\n",
            "Epoch 1, Validation Accuracy: 45.63%\n",
            "Epoch 2, Validation Accuracy: 49.14%\n",
            "Epoch 3, Validation Accuracy: 50.36%\n",
            "Epoch 4, Validation Accuracy: 52.16%\n",
            "Epoch 5, Validation Accuracy: 51.21%\n",
            "Epoch 6, Validation Accuracy: 51.90%\n",
            "Epoch 7, Validation Accuracy: 52.43%\n",
            "Epoch 8, Validation Accuracy: 52.61%\n",
            "Epoch 9, Validation Accuracy: 52.44%\n",
            "Epoch 10, Validation Accuracy: 52.24%\n",
            "Epoch 11, Validation Accuracy: 52.73%\n",
            "Epoch 12, Validation Accuracy: 52.39%\n",
            "Epoch 13, Validation Accuracy: 52.79%\n",
            "Epoch 14, Validation Accuracy: 52.88%\n",
            "Epoch 15, Validation Accuracy: 52.44%\n",
            "Epoch 16, Validation Accuracy: 51.70%\n",
            "Epoch 17, Validation Accuracy: 52.77%\n",
            "Epoch 18, Validation Accuracy: 51.39%\n",
            "Epoch 19, Validation Accuracy: 51.61%\n",
            "Epoch 20, Validation Accuracy: 52.04%\n",
            "Finished Training\n",
            "Validation accuracies for each epoch:\n",
            "[0.0, 45.63, 49.14, 50.36, 52.16, 51.21, 51.9, 52.43, 52.61, 52.44, 52.24, 52.73, 52.39, 52.79, 52.88, 52.44, 51.7, 52.77, 51.39, 51.61, 52.04]\n"
          ]
        }
      ]
    },
    {
      "cell_type": "code",
      "source": [
        "validation_accuracies_mlp_cifar10 = [0.0, 44.23, 49.49, 50.58, 51.04, 52.11, 51.38, 51.95, 52.26, 51.95, 52.45, 52.16, 52.19, 52.11, 52.01, 52.33, 51.77, 52.74, 51.3, 51.12, 51.51]"
      ],
      "metadata": {
        "id": "FuJMi9-YXyRO"
      },
      "execution_count": 49,
      "outputs": []
    },
    {
      "cell_type": "code",
      "source": [
        "!git clone https://github.com/ZiyaoLi/fast-kan.git\n",
        "\n",
        "import torch\n",
        "import torch.nn as nn\n",
        "import torch.optim as optim\n",
        "import torchvision\n",
        "import torchvision.transforms as transforms\n",
        "import sys\n",
        "\n",
        "# Adjusting the path to include the directory containing the FastKAN module\n",
        "sys.path.append('/content/fast-kan/fastkan')\n",
        "\n",
        "# from efficient_kan import KAN\n",
        "from fastkan import FastKAN as KAN\n",
        "\n",
        "# Train on MNIST\n",
        "import torch\n",
        "import torch.nn as nn\n",
        "import torch.optim as optim\n",
        "import torchvision\n",
        "import torchvision.transforms as transforms\n",
        "from torch.utils.data import DataLoader\n",
        "from tqdm import tqdm\n",
        "\n",
        "# Load CIFAR-10\n",
        "transform = transforms.Compose(\n",
        "    [transforms.ToTensor(), transforms.Normalize((0.5,), (0.5,))]\n",
        ")\n",
        "trainset = torchvision.datasets.CIFAR10(\n",
        "    root=\"./data\", train=True, download=True, transform=transform\n",
        ")\n",
        "valset = torchvision.datasets.CIFAR10(\n",
        "    root=\"./data\", train=False, download=True, transform=transform\n",
        ")\n",
        "trainloader = DataLoader(trainset, batch_size=64, shuffle=True)\n",
        "valloader = DataLoader(valset, batch_size=64, shuffle=False)\n",
        "\n",
        "# Define model\n",
        "model = KAN([3072, 256, 10])\n",
        "device = torch.device(\"cuda\" if torch.cuda.is_available() else \"cpu\")\n",
        "model.to(device)\n",
        "# Define optimizer\n",
        "optimizer = optim.AdamW(model.parameters(), lr=1e-3, weight_decay=1e-4)\n",
        "# Define learning rate scheduler\n",
        "scheduler = optim.lr_scheduler.ExponentialLR(optimizer, gamma=0.8)\n",
        "\n",
        "# Define loss\n",
        "criterion = nn.CrossEntropyLoss()\n",
        "validation_accuracies_kan_cifar10 = []\n",
        "\n",
        "with torch.no_grad():\n",
        "      for images, labels in valloader:\n",
        "          images = images.view(-1, 3072).to(device)\n",
        "          output = model(images)\n",
        "      val_accuracy = ((output.argmax(dim=1) == labels.to(device)).float().mean().item())/len(valloader)\n",
        "      validation_accuracies_kan_cifar10.append(val_accuracy)\n",
        "print(\n",
        "        f\"Epoch {0}, Val Accuracy: {val_accuracy}\"\n",
        "    )\n",
        "\n",
        "for epoch in range(20):\n",
        "    # Train\n",
        "    model.train()\n",
        "    with tqdm(trainloader) as pbar:\n",
        "        for i, (images, labels) in enumerate(pbar):\n",
        "            images = images.view(-1, 3072).to(device)\n",
        "            optimizer.zero_grad()\n",
        "            output = model(images)\n",
        "            loss = criterion(output, labels.to(device))\n",
        "            loss.backward()\n",
        "            optimizer.step()\n",
        "            accuracy = (output.argmax(dim=1) == labels.to(device)).float().mean()\n",
        "            pbar.set_postfix(loss=loss.item(), accuracy=accuracy.item(), lr=optimizer.param_groups[0]['lr'])\n",
        "\n",
        "    # Validation\n",
        "    model.eval()\n",
        "    val_loss = 0\n",
        "    val_accuracy = 0\n",
        "    with torch.no_grad():\n",
        "        for images, labels in valloader:\n",
        "            images = images.view(-1, 3072).to(device)\n",
        "            output = model(images)\n",
        "            val_loss += criterion(output, labels.to(device)).item()\n",
        "            val_accuracy += (\n",
        "                (output.argmax(dim=1) == labels.to(device)).float().mean().item()\n",
        "            )\n",
        "    val_loss /= len(valloader)\n",
        "    val_accuracy /= len(valloader)\n",
        "    validation_accuracies_kan_cifar10.append(val_accuracy)\n",
        "\n",
        "    # Update learning rate\n",
        "    scheduler.step()\n",
        "\n",
        "    print(\n",
        "        f\"Epoch {epoch + 1}, Val Loss: {val_loss}, Val Accuracy: {val_accuracy}\"\n",
        "    )\n",
        "    print(validation_accuracies_kan_cifar10)\n",
        "\n",
        "torch.save(model.state_dict(), 'cifar10_kan_model_state_dict.pth')"
      ],
      "metadata": {
        "colab": {
          "base_uri": "https://localhost:8080/"
        },
        "id": "B2Z9SKr9ZUo6",
        "outputId": "a84bd77e-6f5b-45ce-cfcd-2b5a15cc9c99"
      },
      "execution_count": 50,
      "outputs": [
        {
          "output_type": "stream",
          "name": "stdout",
          "text": [
            "fatal: destination path 'fast-kan' already exists and is not an empty directory.\n",
            "Files already downloaded and verified\n",
            "Files already downloaded and verified\n",
            "Epoch 0, Val Accuracy: 0.0003980891719745223\n"
          ]
        },
        {
          "output_type": "stream",
          "name": "stderr",
          "text": [
            "100%|██████████| 782/782 [00:21<00:00, 35.56it/s, accuracy=0.562, loss=1.43, lr=0.001]\n"
          ]
        },
        {
          "output_type": "stream",
          "name": "stdout",
          "text": [
            "Epoch 1, Val Loss: 1.444101450549569, Val Accuracy: 0.4937300955414013\n",
            "[0.0003980891719745223, 0.4937300955414013]\n"
          ]
        },
        {
          "output_type": "stream",
          "name": "stderr",
          "text": [
            "100%|██████████| 782/782 [00:22<00:00, 35.33it/s, accuracy=0.5, loss=1.4, lr=0.0008]\n"
          ]
        },
        {
          "output_type": "stream",
          "name": "stdout",
          "text": [
            "Epoch 2, Val Loss: 1.3967269009845271, Val Accuracy: 0.5190087579617835\n",
            "[0.0003980891719745223, 0.4937300955414013, 0.5190087579617835]\n"
          ]
        },
        {
          "output_type": "stream",
          "name": "stderr",
          "text": [
            "100%|██████████| 782/782 [00:21<00:00, 35.60it/s, accuracy=0.688, loss=1.21, lr=0.00064]\n"
          ]
        },
        {
          "output_type": "stream",
          "name": "stdout",
          "text": [
            "Epoch 3, Val Loss: 1.3485419302229669, Val Accuracy: 0.5371218152866242\n",
            "[0.0003980891719745223, 0.4937300955414013, 0.5190087579617835, 0.5371218152866242]\n"
          ]
        },
        {
          "output_type": "stream",
          "name": "stderr",
          "text": [
            "100%|██████████| 782/782 [00:21<00:00, 35.70it/s, accuracy=0.562, loss=1.13, lr=0.000512]\n"
          ]
        },
        {
          "output_type": "stream",
          "name": "stdout",
          "text": [
            "Epoch 4, Val Loss: 1.4083770722340627, Val Accuracy: 0.5344347133757962\n",
            "[0.0003980891719745223, 0.4937300955414013, 0.5190087579617835, 0.5371218152866242, 0.5344347133757962]\n"
          ]
        },
        {
          "output_type": "stream",
          "name": "stderr",
          "text": [
            "100%|██████████| 782/782 [00:22<00:00, 35.49it/s, accuracy=0.688, loss=0.658, lr=0.00041]\n"
          ]
        },
        {
          "output_type": "stream",
          "name": "stdout",
          "text": [
            "Epoch 5, Val Loss: 1.5006616992555606, Val Accuracy: 0.5315485668789809\n",
            "[0.0003980891719745223, 0.4937300955414013, 0.5190087579617835, 0.5371218152866242, 0.5344347133757962, 0.5315485668789809]\n"
          ]
        },
        {
          "output_type": "stream",
          "name": "stderr",
          "text": [
            "100%|██████████| 782/782 [00:21<00:00, 35.99it/s, accuracy=1, loss=0.25, lr=0.000328]\n"
          ]
        },
        {
          "output_type": "stream",
          "name": "stdout",
          "text": [
            "Epoch 6, Val Loss: 1.538671884567115, Val Accuracy: 0.5410031847133758\n",
            "[0.0003980891719745223, 0.4937300955414013, 0.5190087579617835, 0.5371218152866242, 0.5344347133757962, 0.5315485668789809, 0.5410031847133758]\n"
          ]
        },
        {
          "output_type": "stream",
          "name": "stderr",
          "text": [
            "100%|██████████| 782/782 [00:21<00:00, 35.82it/s, accuracy=1, loss=0.07, lr=0.000262]\n"
          ]
        },
        {
          "output_type": "stream",
          "name": "stdout",
          "text": [
            "Epoch 7, Val Loss: 1.5953559063042804, Val Accuracy: 0.5419984076433121\n",
            "[0.0003980891719745223, 0.4937300955414013, 0.5190087579617835, 0.5371218152866242, 0.5344347133757962, 0.5315485668789809, 0.5410031847133758, 0.5419984076433121]\n"
          ]
        },
        {
          "output_type": "stream",
          "name": "stderr",
          "text": [
            "100%|██████████| 782/782 [00:21<00:00, 35.86it/s, accuracy=1, loss=0.0631, lr=0.00021]\n"
          ]
        },
        {
          "output_type": "stream",
          "name": "stdout",
          "text": [
            "Epoch 8, Val Loss: 1.6896160301888825, Val Accuracy: 0.536922770700637\n",
            "[0.0003980891719745223, 0.4937300955414013, 0.5190087579617835, 0.5371218152866242, 0.5344347133757962, 0.5315485668789809, 0.5410031847133758, 0.5419984076433121, 0.536922770700637]\n"
          ]
        },
        {
          "output_type": "stream",
          "name": "stderr",
          "text": [
            "100%|██████████| 782/782 [00:21<00:00, 36.43it/s, accuracy=1, loss=0.0207, lr=0.000168]\n"
          ]
        },
        {
          "output_type": "stream",
          "name": "stdout",
          "text": [
            "Epoch 9, Val Loss: 1.7453880249315006, Val Accuracy: 0.5413017515923567\n",
            "[0.0003980891719745223, 0.4937300955414013, 0.5190087579617835, 0.5371218152866242, 0.5344347133757962, 0.5315485668789809, 0.5410031847133758, 0.5419984076433121, 0.536922770700637, 0.5413017515923567]\n"
          ]
        },
        {
          "output_type": "stream",
          "name": "stderr",
          "text": [
            "100%|██████████| 782/782 [00:21<00:00, 36.49it/s, accuracy=1, loss=0.0148, lr=0.000134]\n"
          ]
        },
        {
          "output_type": "stream",
          "name": "stdout",
          "text": [
            "Epoch 10, Val Loss: 1.7876597703642148, Val Accuracy: 0.5421974522292994\n",
            "[0.0003980891719745223, 0.4937300955414013, 0.5190087579617835, 0.5371218152866242, 0.5344347133757962, 0.5315485668789809, 0.5410031847133758, 0.5419984076433121, 0.536922770700637, 0.5413017515923567, 0.5421974522292994]\n"
          ]
        },
        {
          "output_type": "stream",
          "name": "stderr",
          "text": [
            "100%|██████████| 782/782 [00:22<00:00, 35.22it/s, accuracy=1, loss=0.0163, lr=0.000107]\n"
          ]
        },
        {
          "output_type": "stream",
          "name": "stdout",
          "text": [
            "Epoch 11, Val Loss: 1.8381494781014267, Val Accuracy: 0.5418988853503185\n",
            "[0.0003980891719745223, 0.4937300955414013, 0.5190087579617835, 0.5371218152866242, 0.5344347133757962, 0.5315485668789809, 0.5410031847133758, 0.5419984076433121, 0.536922770700637, 0.5413017515923567, 0.5421974522292994, 0.5418988853503185]\n"
          ]
        },
        {
          "output_type": "stream",
          "name": "stderr",
          "text": [
            "100%|██████████| 782/782 [00:21<00:00, 36.87it/s, accuracy=1, loss=0.00829, lr=8.59e-5]\n"
          ]
        },
        {
          "output_type": "stream",
          "name": "stdout",
          "text": [
            "Epoch 12, Val Loss: 1.874474858782094, Val Accuracy: 0.5401074840764332\n",
            "[0.0003980891719745223, 0.4937300955414013, 0.5190087579617835, 0.5371218152866242, 0.5344347133757962, 0.5315485668789809, 0.5410031847133758, 0.5419984076433121, 0.536922770700637, 0.5413017515923567, 0.5421974522292994, 0.5418988853503185, 0.5401074840764332]\n"
          ]
        },
        {
          "output_type": "stream",
          "name": "stderr",
          "text": [
            "100%|██████████| 782/782 [00:21<00:00, 36.78it/s, accuracy=1, loss=0.0126, lr=6.87e-5]\n"
          ]
        },
        {
          "output_type": "stream",
          "name": "stdout",
          "text": [
            "Epoch 13, Val Loss: 1.9232344156617571, Val Accuracy: 0.5414012738853503\n",
            "[0.0003980891719745223, 0.4937300955414013, 0.5190087579617835, 0.5371218152866242, 0.5344347133757962, 0.5315485668789809, 0.5410031847133758, 0.5419984076433121, 0.536922770700637, 0.5413017515923567, 0.5421974522292994, 0.5418988853503185, 0.5401074840764332, 0.5414012738853503]\n"
          ]
        },
        {
          "output_type": "stream",
          "name": "stderr",
          "text": [
            "100%|██████████| 782/782 [00:21<00:00, 37.02it/s, accuracy=1, loss=0.0079, lr=5.5e-5]\n"
          ]
        },
        {
          "output_type": "stream",
          "name": "stdout",
          "text": [
            "Epoch 14, Val Loss: 1.9631023475318958, Val Accuracy: 0.5399084394904459\n",
            "[0.0003980891719745223, 0.4937300955414013, 0.5190087579617835, 0.5371218152866242, 0.5344347133757962, 0.5315485668789809, 0.5410031847133758, 0.5419984076433121, 0.536922770700637, 0.5413017515923567, 0.5421974522292994, 0.5418988853503185, 0.5401074840764332, 0.5414012738853503, 0.5399084394904459]\n"
          ]
        },
        {
          "output_type": "stream",
          "name": "stderr",
          "text": [
            "100%|██████████| 782/782 [00:21<00:00, 36.69it/s, accuracy=1, loss=0.0142, lr=4.4e-5]\n"
          ]
        },
        {
          "output_type": "stream",
          "name": "stdout",
          "text": [
            "Epoch 15, Val Loss: 1.9974225812656865, Val Accuracy: 0.5393113057324841\n",
            "[0.0003980891719745223, 0.4937300955414013, 0.5190087579617835, 0.5371218152866242, 0.5344347133757962, 0.5315485668789809, 0.5410031847133758, 0.5419984076433121, 0.536922770700637, 0.5413017515923567, 0.5421974522292994, 0.5418988853503185, 0.5401074840764332, 0.5414012738853503, 0.5399084394904459, 0.5393113057324841]\n"
          ]
        },
        {
          "output_type": "stream",
          "name": "stderr",
          "text": [
            "100%|██████████| 782/782 [00:21<00:00, 36.30it/s, accuracy=1, loss=0.00171, lr=3.52e-5]\n"
          ]
        },
        {
          "output_type": "stream",
          "name": "stdout",
          "text": [
            "Epoch 16, Val Loss: 2.0322147380014894, Val Accuracy: 0.5383160828025477\n",
            "[0.0003980891719745223, 0.4937300955414013, 0.5190087579617835, 0.5371218152866242, 0.5344347133757962, 0.5315485668789809, 0.5410031847133758, 0.5419984076433121, 0.536922770700637, 0.5413017515923567, 0.5421974522292994, 0.5418988853503185, 0.5401074840764332, 0.5414012738853503, 0.5399084394904459, 0.5393113057324841, 0.5383160828025477]\n"
          ]
        },
        {
          "output_type": "stream",
          "name": "stderr",
          "text": [
            "100%|██████████| 782/782 [00:21<00:00, 36.39it/s, accuracy=1, loss=0.00336, lr=2.81e-5]\n"
          ]
        },
        {
          "output_type": "stream",
          "name": "stdout",
          "text": [
            "Epoch 17, Val Loss: 2.0638096028832114, Val Accuracy: 0.5392117834394905\n",
            "[0.0003980891719745223, 0.4937300955414013, 0.5190087579617835, 0.5371218152866242, 0.5344347133757962, 0.5315485668789809, 0.5410031847133758, 0.5419984076433121, 0.536922770700637, 0.5413017515923567, 0.5421974522292994, 0.5418988853503185, 0.5401074840764332, 0.5414012738853503, 0.5399084394904459, 0.5393113057324841, 0.5383160828025477, 0.5392117834394905]\n"
          ]
        },
        {
          "output_type": "stream",
          "name": "stderr",
          "text": [
            "100%|██████████| 782/782 [00:22<00:00, 35.10it/s, accuracy=1, loss=0.00336, lr=2.25e-5]\n"
          ]
        },
        {
          "output_type": "stream",
          "name": "stdout",
          "text": [
            "Epoch 18, Val Loss: 2.0913397453393148, Val Accuracy: 0.5390127388535032\n",
            "[0.0003980891719745223, 0.4937300955414013, 0.5190087579617835, 0.5371218152866242, 0.5344347133757962, 0.5315485668789809, 0.5410031847133758, 0.5419984076433121, 0.536922770700637, 0.5413017515923567, 0.5421974522292994, 0.5418988853503185, 0.5401074840764332, 0.5414012738853503, 0.5399084394904459, 0.5393113057324841, 0.5383160828025477, 0.5392117834394905, 0.5390127388535032]\n"
          ]
        },
        {
          "output_type": "stream",
          "name": "stderr",
          "text": [
            "100%|██████████| 782/782 [00:22<00:00, 35.43it/s, accuracy=1, loss=0.0033, lr=1.8e-5]\n"
          ]
        },
        {
          "output_type": "stream",
          "name": "stdout",
          "text": [
            "Epoch 19, Val Loss: 2.1181960766482506, Val Accuracy: 0.5367237261146497\n",
            "[0.0003980891719745223, 0.4937300955414013, 0.5190087579617835, 0.5371218152866242, 0.5344347133757962, 0.5315485668789809, 0.5410031847133758, 0.5419984076433121, 0.536922770700637, 0.5413017515923567, 0.5421974522292994, 0.5418988853503185, 0.5401074840764332, 0.5414012738853503, 0.5399084394904459, 0.5393113057324841, 0.5383160828025477, 0.5392117834394905, 0.5390127388535032, 0.5367237261146497]\n"
          ]
        },
        {
          "output_type": "stream",
          "name": "stderr",
          "text": [
            "100%|██████████| 782/782 [00:22<00:00, 35.34it/s, accuracy=1, loss=0.00205, lr=1.44e-5]\n"
          ]
        },
        {
          "output_type": "stream",
          "name": "stdout",
          "text": [
            "Epoch 20, Val Loss: 2.138869404033491, Val Accuracy: 0.5378184713375797\n",
            "[0.0003980891719745223, 0.4937300955414013, 0.5190087579617835, 0.5371218152866242, 0.5344347133757962, 0.5315485668789809, 0.5410031847133758, 0.5419984076433121, 0.536922770700637, 0.5413017515923567, 0.5421974522292994, 0.5418988853503185, 0.5401074840764332, 0.5414012738853503, 0.5399084394904459, 0.5393113057324841, 0.5383160828025477, 0.5392117834394905, 0.5390127388535032, 0.5367237261146497, 0.5378184713375797]\n"
          ]
        }
      ]
    },
    {
      "cell_type": "code",
      "source": [
        "validation_accuracies_kan_cifar10 = [0.0003980891719745223, 0.49572054140127386, 0.5171178343949044, 0.5160230891719745, 0.5326433121019108, 0.5324442675159236, 0.5409036624203821, 0.5426950636942676, 0.5416998407643312, 0.5433917197452229, 0.5421974522292994, 0.5451831210191083, 0.5427945859872612, 0.5425955414012739, 0.5423964968152867, 0.5416003184713376, 0.5424960191082803, 0.538515127388535, 0.5423964968152867, 0.5416003184713376, 0.5400079617834395]"
      ],
      "metadata": {
        "id": "al3ZrhiXeirt"
      },
      "execution_count": 51,
      "outputs": []
    },
    {
      "cell_type": "code",
      "source": [
        "epoch = np.arange(21)\n",
        "plt.plot(epoch, validation_accuracies_mlp_cifar10, label='MLP Accuracy')\n",
        "plt.plot(epoch, [100*i for i in validation_accuracies_kan_cifar10], label='KAN Accuracy')\n",
        "\n",
        "plt.xlabel('Epoch')\n",
        "plt.ylabel('Validation Accuracy %')\n",
        "plt.title('MLP vs. KAN Validation Accuracies on CIFAR-10')\n",
        "plt.legend()\n",
        "plt.xticks(range(0, 21, 5))\n"
      ],
      "metadata": {
        "colab": {
          "base_uri": "https://localhost:8080/",
          "height": 651
        },
        "id": "OWtxyHTNemmN",
        "outputId": "07f95bbf-eac4-4c39-865a-4230dd652cf0"
      },
      "execution_count": 52,
      "outputs": [
        {
          "output_type": "execute_result",
          "data": {
            "text/plain": [
              "([<matplotlib.axis.XTick at 0x7c07c7521270>,\n",
              "  <matplotlib.axis.XTick at 0x7c07c75212a0>,\n",
              "  <matplotlib.axis.XTick at 0x7c07c7cc3220>,\n",
              "  <matplotlib.axis.XTick at 0x7c07ca14f490>,\n",
              "  <matplotlib.axis.XTick at 0x7c07c5c6e740>],\n",
              " [Text(0, 0, '0'),\n",
              "  Text(5, 0, '5'),\n",
              "  Text(10, 0, '10'),\n",
              "  Text(15, 0, '15'),\n",
              "  Text(20, 0, '20')])"
            ]
          },
          "metadata": {},
          "execution_count": 52
        },
        {
          "output_type": "display_data",
          "data": {
            "text/plain": [
              "<Figure size 640x480 with 1 Axes>"
            ],
            "image/png": "[encoded data removed]"
          },
          "metadata": {}
        }
      ]
    },
    {
      "cell_type": "code",
      "source": [
        "# Define the MLP model\n",
        "class MLP(nn.Module):\n",
        "    def __init__(self):\n",
        "        super(MLP, self).__init__()\n",
        "        self.fc1 = nn.Linear(32 * 32 * 3, 512)\n",
        "        self.fc2 = nn.Linear(512, 256)\n",
        "        self.fc3 = nn.Linear(256, 100)\n",
        "\n",
        "    def forward(self, x):\n",
        "        x = x.view(x.size(0), -1)\n",
        "        x = torch.relu(self.fc1(x))\n",
        "        x = torch.relu(self.fc2(x))\n",
        "        x = self.fc3(x)\n",
        "        return x\n",
        "\n",
        "# Define transforms for the data\n",
        "transform = transforms.Compose([\n",
        "    transforms.ToTensor(),\n",
        "    transforms.Normalize((0.5, 0.5, 0.5), (0.5, 0.5, 0.5))\n",
        "])\n",
        "\n",
        "# Load CIFAR-100 dataset\n",
        "trainset = torchvision.datasets.CIFAR100(root='./data', train=True, download=True, transform=transform)\n",
        "trainloader = torch.utils.data.DataLoader(trainset, batch_size=32, shuffle=True, num_workers=2)\n",
        "\n",
        "testset = torchvision.datasets.CIFAR100(root='./data', train=False, download=True, transform=transform)\n",
        "testloader = torch.utils.data.DataLoader(testset, batch_size=32, shuffle=False, num_workers=2)\n",
        "\n",
        "# Initialize the model, loss function, and optimizer\n",
        "model = MLP()\n",
        "criterion = nn.CrossEntropyLoss()\n",
        "optimizer = optim.Adam(model.parameters(), lr=0.001)\n",
        "\n",
        "# Training loop\n",
        "validation_accuracies_mlp_cifar100 = []\n",
        "\n",
        "with torch.no_grad():\n",
        "    for inputs, labels in testloader:\n",
        "        outputs = model(inputs)\n",
        "        _, predicted = torch.max(outputs, 1)\n",
        "\n",
        "validation_accuracy = 100 * (predicted == labels).sum().item() / labels.size(0)\n",
        "validation_accuracies_mlp_cifar100.append(validation_accuracy)\n",
        "print(f\"Epoch {0}, Validation Accuracy: {validation_accuracy:.2f}%\")\n",
        "\n",
        "for epoch in range(20):  # Number of epochs\n",
        "    running_loss = 0.0\n",
        "    correct = 0\n",
        "    total = 0\n",
        "\n",
        "    # Training\n",
        "    model.train()\n",
        "    for inputs, labels in trainloader:\n",
        "        optimizer.zero_grad()\n",
        "        outputs = model(inputs)\n",
        "        loss = criterion(outputs, labels)\n",
        "        loss.backward()\n",
        "        optimizer.step()\n",
        "        running_loss += loss.item()\n",
        "\n",
        "    # Validation\n",
        "    model.eval()\n",
        "    with torch.no_grad():\n",
        "        for inputs, labels in testloader:\n",
        "            outputs = model(inputs)\n",
        "            _, predicted = torch.max(outputs, 1)\n",
        "            total += labels.size(0)\n",
        "            correct += (predicted == labels).sum().item()\n",
        "\n",
        "    validation_accuracy = 100 * correct / total\n",
        "    validation_accuracies_mlp_cifar100.append(validation_accuracy)\n",
        "    print(f\"Epoch {epoch+1}, Validation Accuracy: {validation_accuracy:.2f}%\")\n",
        "\n",
        "print('Finished Training')\n",
        "\n",
        "# Output the model and validation accuracies\n",
        "\n",
        "print(\"Validation accuracies for each epoch:\")\n",
        "print(validation_accuracies_mlp_cifar100)\n",
        "\n",
        "torch.save(model.state_dict(), 'cifar100_mlp_model_state_dict.pth')"
      ],
      "metadata": {
        "colab": {
          "base_uri": "https://localhost:8080/"
        },
        "id": "WVnXWhBweyLV",
        "outputId": "552b29b2-6679-48e8-8818-4d4ab6a3bb60"
      },
      "execution_count": 53,
      "outputs": [
        {
          "output_type": "stream",
          "name": "stdout",
          "text": [
            "Files already downloaded and verified\n",
            "Files already downloaded and verified\n",
            "Epoch 0, Validation Accuracy: 6.25%\n",
            "Epoch 1, Validation Accuracy: 16.04%\n",
            "Epoch 2, Validation Accuracy: 18.39%\n",
            "Epoch 3, Validation Accuracy: 20.19%\n",
            "Epoch 4, Validation Accuracy: 19.92%\n",
            "Epoch 5, Validation Accuracy: 21.07%\n",
            "Epoch 6, Validation Accuracy: 21.12%\n",
            "Epoch 7, Validation Accuracy: 22.04%\n",
            "Epoch 8, Validation Accuracy: 21.63%\n",
            "Epoch 9, Validation Accuracy: 22.08%\n",
            "Epoch 10, Validation Accuracy: 21.76%\n",
            "Epoch 11, Validation Accuracy: 21.81%\n",
            "Epoch 12, Validation Accuracy: 21.56%\n",
            "Epoch 13, Validation Accuracy: 21.27%\n",
            "Epoch 14, Validation Accuracy: 21.17%\n",
            "Epoch 15, Validation Accuracy: 20.97%\n",
            "Epoch 16, Validation Accuracy: 20.97%\n",
            "Epoch 17, Validation Accuracy: 20.58%\n",
            "Epoch 18, Validation Accuracy: 21.20%\n",
            "Epoch 19, Validation Accuracy: 20.38%\n",
            "Epoch 20, Validation Accuracy: 20.44%\n",
            "Finished Training\n",
            "Validation accuracies for each epoch:\n",
            "[6.25, 16.04, 18.39, 20.19, 19.92, 21.07, 21.12, 22.04, 21.63, 22.08, 21.76, 21.81, 21.56, 21.27, 21.17, 20.97, 20.97, 20.58, 21.2, 20.38, 20.44]\n"
          ]
        }
      ]
    },
    {
      "cell_type": "code",
      "source": [
        "validation_accuracies_mlp_cifar100 = [0.0, 16.14, 18.26, 19.54, 20.75, 21.3, 21.74, 22.03, 21.77, 21.91, 21.46, 21.24, 21.39, 22.59, 21.58, 21.96, 20.99, 20.76, 21.04, 20.19, 21.04]"
      ],
      "metadata": {
        "id": "hROZ0g0sjtGP"
      },
      "execution_count": 54,
      "outputs": []
    },
    {
      "cell_type": "code",
      "source": [
        "!git clone https://github.com/ZiyaoLi/fast-kan.git\n",
        "\n",
        "import torch\n",
        "import torch.nn as nn\n",
        "import torch.optim as optim\n",
        "import torchvision\n",
        "import torchvision.transforms as transforms\n",
        "import sys\n",
        "\n",
        "# Adjusting the path to include the directory containing the FastKAN module\n",
        "sys.path.append('/content/fast-kan/fastkan')\n",
        "\n",
        "# from efficient_kan import KAN\n",
        "from fastkan import FastKAN as KAN\n",
        "\n",
        "import torch\n",
        "import torch.nn as nn\n",
        "import torch.optim as optim\n",
        "import torchvision\n",
        "import torchvision.transforms as transforms\n",
        "from torch.utils.data import DataLoader\n",
        "from tqdm import tqdm\n",
        "\n",
        "# Load CIFAR100\n",
        "transform = transforms.Compose(\n",
        "    [transforms.ToTensor(), transforms.Normalize((0.5,), (0.5,))]\n",
        ")\n",
        "trainset = torchvision.datasets.CIFAR100(\n",
        "    root=\"./data\", train=True, download=True, transform=transform\n",
        ")\n",
        "valset = torchvision.datasets.CIFAR100(\n",
        "    root=\"./data\", train=False, download=True, transform=transform\n",
        ")\n",
        "trainloader = DataLoader(trainset, batch_size=64, shuffle=True)\n",
        "valloader = DataLoader(valset, batch_size=64, shuffle=False)\n",
        "\n",
        "# Define model\n",
        "model = KAN([3072, 256, 100])\n",
        "device = torch.device(\"cuda\" if torch.cuda.is_available() else \"cpu\")\n",
        "model.to(device)\n",
        "# Define optimizer\n",
        "optimizer = optim.AdamW(model.parameters(), lr=1e-3, weight_decay=1e-4)\n",
        "# Define learning rate scheduler\n",
        "scheduler = optim.lr_scheduler.ExponentialLR(optimizer, gamma=0.8)\n",
        "\n",
        "# Define loss\n",
        "criterion = nn.CrossEntropyLoss()\n",
        "validation_accuracies_kan_cifar100 = []\n",
        "\n",
        "with torch.no_grad():\n",
        "      for images, labels in valloader:\n",
        "          images = images.view(-1, 3072).to(device)\n",
        "          output = model(images)\n",
        "      val_accuracy = ((output.argmax(dim=1) == labels.to(device)).float().mean().item())/len(valloader)\n",
        "      validation_accuracies_kan_cifar100.append(val_accuracy)\n",
        "print(\n",
        "        f\"Epoch {0}, Val Accuracy: {val_accuracy}\"\n",
        "    )\n",
        "\n",
        "for epoch in range(20):\n",
        "    # Train\n",
        "    model.train()\n",
        "    with tqdm(trainloader) as pbar:\n",
        "        for i, (images, labels) in enumerate(pbar):\n",
        "            images = images.view(-1, 3072).to(device)\n",
        "            optimizer.zero_grad()\n",
        "            output = model(images)\n",
        "            loss = criterion(output, labels.to(device))\n",
        "            loss.backward()\n",
        "            optimizer.step()\n",
        "            accuracy = (output.argmax(dim=1) == labels.to(device)).float().mean()\n",
        "            pbar.set_postfix(loss=loss.item(), accuracy=accuracy.item(), lr=optimizer.param_groups[0]['lr'])\n",
        "\n",
        "    # Validation\n",
        "    model.eval()\n",
        "    val_loss = 0\n",
        "    val_accuracy = 0\n",
        "    with torch.no_grad():\n",
        "        for images, labels in valloader:\n",
        "            images = images.view(-1, 3072).to(device)\n",
        "            output = model(images)\n",
        "            val_loss += criterion(output, labels.to(device)).item()\n",
        "            val_accuracy += (\n",
        "                (output.argmax(dim=1) == labels.to(device)).float().mean().item()\n",
        "            )\n",
        "    val_loss /= len(valloader)\n",
        "    val_accuracy /= len(valloader)\n",
        "    validation_accuracies_kan_cifar100.append(val_accuracy)\n",
        "\n",
        "    # Update learning rate\n",
        "    scheduler.step()\n",
        "\n",
        "    print(\n",
        "        f\"Epoch {epoch + 1}, Val Loss: {val_loss}, Val Accuracy: {val_accuracy}\"\n",
        "    )\n",
        "    print(validation_accuracies_kan_cifar100)\n",
        "\n",
        "torch.save(model.state_dict(), 'cifar100_kan_model_state_dict.pth')\n"
      ],
      "metadata": {
        "colab": {
          "base_uri": "https://localhost:8080/"
        },
        "id": "82SoogFsgvgB",
        "outputId": "41cf68b4-eea1-443f-be30-83150bca489e"
      },
      "execution_count": 55,
      "outputs": [
        {
          "output_type": "stream",
          "name": "stdout",
          "text": [
            "fatal: destination path 'fast-kan' already exists and is not an empty directory.\n",
            "Files already downloaded and verified\n",
            "Files already downloaded and verified\n",
            "Epoch 0, Val Accuracy: 0.0003980891719745223\n"
          ]
        },
        {
          "output_type": "stream",
          "name": "stderr",
          "text": [
            "100%|██████████| 782/782 [00:21<00:00, 37.07it/s, accuracy=0.188, loss=3.82, lr=0.001]\n"
          ]
        },
        {
          "output_type": "stream",
          "name": "stdout",
          "text": [
            "Epoch 1, Val Loss: 3.525869263205559, Val Accuracy: 0.1884952229299363\n",
            "[0.0003980891719745223, 0.1884952229299363]\n"
          ]
        },
        {
          "output_type": "stream",
          "name": "stderr",
          "text": [
            "100%|██████████| 782/782 [00:21<00:00, 36.68it/s, accuracy=0.438, loss=2.75, lr=0.0008]\n"
          ]
        },
        {
          "output_type": "stream",
          "name": "stdout",
          "text": [
            "Epoch 2, Val Loss: 3.376241740147779, Val Accuracy: 0.22342754777070065\n",
            "[0.0003980891719745223, 0.1884952229299363, 0.22342754777070065]\n"
          ]
        },
        {
          "output_type": "stream",
          "name": "stderr",
          "text": [
            "100%|██████████| 782/782 [00:21<00:00, 36.62it/s, accuracy=0.312, loss=2.16, lr=0.00064]\n"
          ]
        },
        {
          "output_type": "stream",
          "name": "stdout",
          "text": [
            "Epoch 3, Val Loss: 3.340157212725111, Val Accuracy: 0.234375\n",
            "[0.0003980891719745223, 0.1884952229299363, 0.22342754777070065, 0.234375]\n"
          ]
        },
        {
          "output_type": "stream",
          "name": "stderr",
          "text": [
            "100%|██████████| 782/782 [00:21<00:00, 36.05it/s, accuracy=0.5, loss=2.67, lr=0.000512]\n"
          ]
        },
        {
          "output_type": "stream",
          "name": "stdout",
          "text": [
            "Epoch 4, Val Loss: 3.3210544388764984, Val Accuracy: 0.24940286624203822\n",
            "[0.0003980891719745223, 0.1884952229299363, 0.22342754777070065, 0.234375, 0.24940286624203822]\n"
          ]
        },
        {
          "output_type": "stream",
          "name": "stderr",
          "text": [
            "100%|██████████| 782/782 [00:21<00:00, 36.91it/s, accuracy=0.562, loss=1.49, lr=0.00041]\n"
          ]
        },
        {
          "output_type": "stream",
          "name": "stdout",
          "text": [
            "Epoch 5, Val Loss: 3.3820634480494602, Val Accuracy: 0.24930334394904458\n",
            "[0.0003980891719745223, 0.1884952229299363, 0.22342754777070065, 0.234375, 0.24940286624203822, 0.24930334394904458]\n"
          ]
        },
        {
          "output_type": "stream",
          "name": "stderr",
          "text": [
            "100%|██████████| 782/782 [00:21<00:00, 36.92it/s, accuracy=0.875, loss=0.861, lr=0.000328]\n"
          ]
        },
        {
          "output_type": "stream",
          "name": "stdout",
          "text": [
            "Epoch 6, Val Loss: 3.4909559647748423, Val Accuracy: 0.24731289808917198\n",
            "[0.0003980891719745223, 0.1884952229299363, 0.22342754777070065, 0.234375, 0.24940286624203822, 0.24930334394904458, 0.24731289808917198]\n"
          ]
        },
        {
          "output_type": "stream",
          "name": "stderr",
          "text": [
            "100%|██████████| 782/782 [00:21<00:00, 35.58it/s, accuracy=0.938, loss=0.576, lr=0.000262]\n"
          ]
        },
        {
          "output_type": "stream",
          "name": "stdout",
          "text": [
            "Epoch 7, Val Loss: 3.573734980479927, Val Accuracy: 0.24422770700636942\n",
            "[0.0003980891719745223, 0.1884952229299363, 0.22342754777070065, 0.234375, 0.24940286624203822, 0.24930334394904458, 0.24731289808917198, 0.24422770700636942]\n"
          ]
        },
        {
          "output_type": "stream",
          "name": "stderr",
          "text": [
            "100%|██████████| 782/782 [00:20<00:00, 37.87it/s, accuracy=0.875, loss=0.504, lr=0.00021]\n"
          ]
        },
        {
          "output_type": "stream",
          "name": "stdout",
          "text": [
            "Epoch 8, Val Loss: 3.6997614666155187, Val Accuracy: 0.24303343949044587\n",
            "[0.0003980891719745223, 0.1884952229299363, 0.22342754777070065, 0.234375, 0.24940286624203822, 0.24930334394904458, 0.24731289808917198, 0.24422770700636942, 0.24303343949044587]\n"
          ]
        },
        {
          "output_type": "stream",
          "name": "stderr",
          "text": [
            "100%|██████████| 782/782 [00:20<00:00, 37.89it/s, accuracy=1, loss=0.212, lr=0.000168]\n"
          ]
        },
        {
          "output_type": "stream",
          "name": "stdout",
          "text": [
            "Epoch 9, Val Loss: 3.7756025730424625, Val Accuracy: 0.24104299363057324\n",
            "[0.0003980891719745223, 0.1884952229299363, 0.22342754777070065, 0.234375, 0.24940286624203822, 0.24930334394904458, 0.24731289808917198, 0.24422770700636942, 0.24303343949044587, 0.24104299363057324]\n"
          ]
        },
        {
          "output_type": "stream",
          "name": "stderr",
          "text": [
            "100%|██████████| 782/782 [00:20<00:00, 37.26it/s, accuracy=0.938, loss=0.273, lr=0.000134]\n"
          ]
        },
        {
          "output_type": "stream",
          "name": "stdout",
          "text": [
            "Epoch 10, Val Loss: 3.84180891437895, Val Accuracy: 0.2392515923566879\n",
            "[0.0003980891719745223, 0.1884952229299363, 0.22342754777070065, 0.234375, 0.24940286624203822, 0.24930334394904458, 0.24731289808917198, 0.24422770700636942, 0.24303343949044587, 0.24104299363057324, 0.2392515923566879]\n"
          ]
        },
        {
          "output_type": "stream",
          "name": "stderr",
          "text": [
            "100%|██████████| 782/782 [00:21<00:00, 37.21it/s, accuracy=1, loss=0.195, lr=0.000107]\n"
          ]
        },
        {
          "output_type": "stream",
          "name": "stdout",
          "text": [
            "Epoch 11, Val Loss: 3.904736682867548, Val Accuracy: 0.2418391719745223\n",
            "[0.0003980891719745223, 0.1884952229299363, 0.22342754777070065, 0.234375, 0.24940286624203822, 0.24930334394904458, 0.24731289808917198, 0.24422770700636942, 0.24303343949044587, 0.24104299363057324, 0.2392515923566879, 0.2418391719745223]\n"
          ]
        },
        {
          "output_type": "stream",
          "name": "stderr",
          "text": [
            "100%|██████████| 782/782 [00:22<00:00, 35.52it/s, accuracy=1, loss=0.197, lr=8.59e-5]\n"
          ]
        },
        {
          "output_type": "stream",
          "name": "stdout",
          "text": [
            "Epoch 12, Val Loss: 3.962074103628754, Val Accuracy: 0.24034633757961785\n",
            "[0.0003980891719745223, 0.1884952229299363, 0.22342754777070065, 0.234375, 0.24940286624203822, 0.24930334394904458, 0.24731289808917198, 0.24422770700636942, 0.24303343949044587, 0.24104299363057324, 0.2392515923566879, 0.2418391719745223, 0.24034633757961785]\n"
          ]
        },
        {
          "output_type": "stream",
          "name": "stderr",
          "text": [
            "100%|██████████| 782/782 [00:22<00:00, 34.89it/s, accuracy=1, loss=0.0688, lr=6.87e-5]\n"
          ]
        },
        {
          "output_type": "stream",
          "name": "stdout",
          "text": [
            "Epoch 13, Val Loss: 4.003687324037977, Val Accuracy: 0.24134156050955413\n",
            "[0.0003980891719745223, 0.1884952229299363, 0.22342754777070065, 0.234375, 0.24940286624203822, 0.24930334394904458, 0.24731289808917198, 0.24422770700636942, 0.24303343949044587, 0.24104299363057324, 0.2392515923566879, 0.2418391719745223, 0.24034633757961785, 0.24134156050955413]\n"
          ]
        },
        {
          "output_type": "stream",
          "name": "stderr",
          "text": [
            "100%|██████████| 782/782 [00:22<00:00, 35.49it/s, accuracy=1, loss=0.0704, lr=5.5e-5]\n"
          ]
        },
        {
          "output_type": "stream",
          "name": "stdout",
          "text": [
            "Epoch 14, Val Loss: 4.035245031308216, Val Accuracy: 0.238953025477707\n",
            "[0.0003980891719745223, 0.1884952229299363, 0.22342754777070065, 0.234375, 0.24940286624203822, 0.24930334394904458, 0.24731289808917198, 0.24422770700636942, 0.24303343949044587, 0.24104299363057324, 0.2392515923566879, 0.2418391719745223, 0.24034633757961785, 0.24134156050955413, 0.238953025477707]\n"
          ]
        },
        {
          "output_type": "stream",
          "name": "stderr",
          "text": [
            "100%|██████████| 782/782 [00:21<00:00, 35.89it/s, accuracy=1, loss=0.0656, lr=4.4e-5]\n"
          ]
        },
        {
          "output_type": "stream",
          "name": "stdout",
          "text": [
            "Epoch 15, Val Loss: 4.065886177075137, Val Accuracy: 0.23945063694267515\n",
            "[0.0003980891719745223, 0.1884952229299363, 0.22342754777070065, 0.234375, 0.24940286624203822, 0.24930334394904458, 0.24731289808917198, 0.24422770700636942, 0.24303343949044587, 0.24104299363057324, 0.2392515923566879, 0.2418391719745223, 0.24034633757961785, 0.24134156050955413, 0.238953025477707, 0.23945063694267515]\n"
          ]
        },
        {
          "output_type": "stream",
          "name": "stderr",
          "text": [
            "100%|██████████| 782/782 [00:22<00:00, 34.84it/s, accuracy=1, loss=0.0466, lr=3.52e-5]\n"
          ]
        },
        {
          "output_type": "stream",
          "name": "stdout",
          "text": [
            "Epoch 16, Val Loss: 4.103982392390063, Val Accuracy: 0.23805732484076433\n",
            "[0.0003980891719745223, 0.1884952229299363, 0.22342754777070065, 0.234375, 0.24940286624203822, 0.24930334394904458, 0.24731289808917198, 0.24422770700636942, 0.24303343949044587, 0.24104299363057324, 0.2392515923566879, 0.2418391719745223, 0.24034633757961785, 0.24134156050955413, 0.238953025477707, 0.23945063694267515, 0.23805732484076433]\n"
          ]
        },
        {
          "output_type": "stream",
          "name": "stderr",
          "text": [
            "100%|██████████| 782/782 [00:22<00:00, 35.06it/s, accuracy=1, loss=0.0578, lr=2.81e-5]\n"
          ]
        },
        {
          "output_type": "stream",
          "name": "stdout",
          "text": [
            "Epoch 17, Val Loss: 4.128519585178156, Val Accuracy: 0.2385549363057325\n",
            "[0.0003980891719745223, 0.1884952229299363, 0.22342754777070065, 0.234375, 0.24940286624203822, 0.24930334394904458, 0.24731289808917198, 0.24422770700636942, 0.24303343949044587, 0.24104299363057324, 0.2392515923566879, 0.2418391719745223, 0.24034633757961785, 0.24134156050955413, 0.238953025477707, 0.23945063694267515, 0.23805732484076433, 0.2385549363057325]\n"
          ]
        },
        {
          "output_type": "stream",
          "name": "stderr",
          "text": [
            "100%|██████████| 782/782 [00:22<00:00, 35.11it/s, accuracy=1, loss=0.0449, lr=2.25e-5]\n"
          ]
        },
        {
          "output_type": "stream",
          "name": "stdout",
          "text": [
            "Epoch 18, Val Loss: 4.144059884320399, Val Accuracy: 0.23686305732484075\n",
            "[0.0003980891719745223, 0.1884952229299363, 0.22342754777070065, 0.234375, 0.24940286624203822, 0.24930334394904458, 0.24731289808917198, 0.24422770700636942, 0.24303343949044587, 0.24104299363057324, 0.2392515923566879, 0.2418391719745223, 0.24034633757961785, 0.24134156050955413, 0.238953025477707, 0.23945063694267515, 0.23805732484076433, 0.2385549363057325, 0.23686305732484075]\n"
          ]
        },
        {
          "output_type": "stream",
          "name": "stderr",
          "text": [
            "100%|██████████| 782/782 [00:23<00:00, 33.31it/s, accuracy=1, loss=0.0334, lr=1.8e-5]\n"
          ]
        },
        {
          "output_type": "stream",
          "name": "stdout",
          "text": [
            "Epoch 19, Val Loss: 4.1626388829225185, Val Accuracy: 0.23935111464968153\n",
            "[0.0003980891719745223, 0.1884952229299363, 0.22342754777070065, 0.234375, 0.24940286624203822, 0.24930334394904458, 0.24731289808917198, 0.24422770700636942, 0.24303343949044587, 0.24104299363057324, 0.2392515923566879, 0.2418391719745223, 0.24034633757961785, 0.24134156050955413, 0.238953025477707, 0.23945063694267515, 0.23805732484076433, 0.2385549363057325, 0.23686305732484075, 0.23935111464968153]\n"
          ]
        },
        {
          "output_type": "stream",
          "name": "stderr",
          "text": [
            "100%|██████████| 782/782 [00:22<00:00, 34.78it/s, accuracy=1, loss=0.0406, lr=1.44e-5]\n"
          ]
        },
        {
          "output_type": "stream",
          "name": "stdout",
          "text": [
            "Epoch 20, Val Loss: 4.182860081362876, Val Accuracy: 0.23835589171974522\n",
            "[0.0003980891719745223, 0.1884952229299363, 0.22342754777070065, 0.234375, 0.24940286624203822, 0.24930334394904458, 0.24731289808917198, 0.24422770700636942, 0.24303343949044587, 0.24104299363057324, 0.2392515923566879, 0.2418391719745223, 0.24034633757961785, 0.24134156050955413, 0.238953025477707, 0.23945063694267515, 0.23805732484076433, 0.2385549363057325, 0.23686305732484075, 0.23935111464968153, 0.23835589171974522]\n"
          ]
        }
      ]
    },
    {
      "cell_type": "code",
      "source": [
        "epoch = np.arange(21)\n",
        "plt.plot(epoch, validation_accuracies_mlp_cifar100, label='MLP Accuracy')\n",
        "plt.plot(epoch, [100*i for i in validation_accuracies_kan_cifar100], label='KAN Accuracy')\n",
        "\n",
        "plt.xlabel('Epoch')\n",
        "plt.ylabel('Validation Accuracy %')\n",
        "plt.title('MLP vs. KAN Validation Accuracies on CIFAR-100')\n",
        "plt.legend()\n",
        "plt.xticks(range(0, 21, 5))"
      ],
      "metadata": {
        "colab": {
          "base_uri": "https://localhost:8080/",
          "height": 651
        },
        "id": "7VQ3q7itl4qk",
        "outputId": "bae2c26a-6d9c-4b44-95f3-c438419e51dc"
      },
      "execution_count": 56,
      "outputs": [
        {
          "output_type": "execute_result",
          "data": {
            "text/plain": [
              "([<matplotlib.axis.XTick at 0x7c07c7d17640>,\n",
              "  <matplotlib.axis.XTick at 0x7c07c7d17070>,\n",
              "  <matplotlib.axis.XTick at 0x7c07c7d17460>,\n",
              "  <matplotlib.axis.XTick at 0x7c07c7acda50>,\n",
              "  <matplotlib.axis.XTick at 0x7c07c7d65090>],\n",
              " [Text(0, 0, '0'),\n",
              "  Text(5, 0, '5'),\n",
              "  Text(10, 0, '10'),\n",
              "  Text(15, 0, '15'),\n",
              "  Text(20, 0, '20')])"
            ]
          },
          "metadata": {},
          "execution_count": 56
        },
        {
          "output_type": "display_data",
          "data": {
            "text/plain": [
              "<Figure size 640x480 with 1 Axes>"
            ],
            "image/png": "[encoded data removed]"
          },
          "metadata": {}
        }
      ]
    },
    {
      "cell_type": "code",
      "source": [
        "# Define the MLP model\n",
        "class MLP(nn.Module):\n",
        "    def __init__(self):\n",
        "        super(MLP, self).__init__()\n",
        "        self.fc1 = nn.Linear(28 * 28, 512)  # MNIST images are 28x28\n",
        "        self.fc2 = nn.Linear(512, 256)\n",
        "        self.fc3 = nn.Linear(256, 100)\n",
        "\n",
        "    def forward(self, x):\n",
        "        x = x.view(x.size(0), -1)\n",
        "        x = torch.relu(self.fc1(x))\n",
        "        x = torch.relu(self.fc2(x))\n",
        "        x = self.fc3(x)\n",
        "        return x\n",
        "\n",
        "# Define transforms for the data\n",
        "transform = transforms.Compose([\n",
        "    transforms.ToTensor(),\n",
        "    transforms.Normalize((0.5,), (0.5,))\n",
        "])\n",
        "\n",
        "# Load MNIST dataset\n",
        "trainset = torchvision.datasets.MNIST(root='./data', train=True, download=True, transform=transform)\n",
        "trainloader = torch.utils.data.DataLoader(trainset, batch_size=32, shuffle=True, num_workers=2)\n",
        "\n",
        "testset = torchvision.datasets.MNIST(root='./data', train=False, download=True, transform=transform)\n",
        "testloader = torch.utils.data.DataLoader(testset, batch_size=32, shuffle=False, num_workers=2)\n",
        "\n",
        "# Initialize the model, loss function, and optimizer\n",
        "model = MLP()\n",
        "criterion = nn.CrossEntropyLoss()\n",
        "optimizer = optim.Adam(model.parameters(), lr=0.001)\n",
        "\n",
        "# Training loop\n",
        "validation_accuracies_mlp_mnist = []\n",
        "\n",
        "with torch.no_grad():\n",
        "    for inputs, labels in testloader:\n",
        "        outputs = model(inputs)\n",
        "        _, predicted = torch.max(outputs, 1)\n",
        "\n",
        "validation_accuracy = 100 * (predicted == labels).sum().item() / labels.size(0)\n",
        "validation_accuracies_mlp_mnist.append(validation_accuracy)\n",
        "print(f\"Epoch {0}, Validation Accuracy: {validation_accuracy:.2f}%\")\n",
        "\n",
        "for epoch in range(20):  # Number of epochs\n",
        "    running_loss = 0.0\n",
        "    correct = 0\n",
        "    total = 0\n",
        "\n",
        "    # Training\n",
        "    model.train()\n",
        "    for inputs, labels in trainloader:\n",
        "        optimizer.zero_grad()\n",
        "        outputs = model(inputs)\n",
        "        loss = criterion(outputs, labels)\n",
        "        loss.backward()\n",
        "        optimizer.step()\n",
        "        running_loss += loss.item()\n",
        "\n",
        "    # Validation\n",
        "    model.eval()\n",
        "    with torch.no_grad():\n",
        "        for inputs, labels in testloader:\n",
        "            outputs = model(inputs)\n",
        "            _, predicted = torch.max(outputs, 1)\n",
        "            total += labels.size(0)\n",
        "            correct += (predicted == labels).sum().item()\n",
        "\n",
        "    validation_accuracy = 100 * correct / total\n",
        "    validation_accuracies_mlp_mnist.append(validation_accuracy)\n",
        "    print(f\"Epoch {epoch+1}, Validation Accuracy: {validation_accuracy:.2f}%\")\n",
        "\n",
        "print('Finished Training')\n",
        "\n",
        "# Output the model and validation accuracies\n",
        "\n",
        "print(\"Validation accuracies for each epoch:\")\n",
        "print(validation_accuracies_mlp_mnist)\n",
        "\n",
        "torch.save(model.state_dict(), 'mnist_mlp_model_state_dict.pth')"
      ],
      "metadata": {
        "colab": {
          "base_uri": "https://localhost:8080/"
        },
        "id": "wO6I_MuamF_3",
        "outputId": "b27fab1c-09fa-4124-d715-d164ae6e586b"
      },
      "execution_count": 57,
      "outputs": [
        {
          "output_type": "stream",
          "name": "stdout",
          "text": [
            "Epoch 0, Validation Accuracy: 0.00%\n",
            "Epoch 1, Validation Accuracy: 94.54%\n",
            "Epoch 2, Validation Accuracy: 96.24%\n",
            "Epoch 3, Validation Accuracy: 96.08%\n",
            "Epoch 4, Validation Accuracy: 97.09%\n",
            "Epoch 5, Validation Accuracy: 97.63%\n",
            "Epoch 6, Validation Accuracy: 97.45%\n",
            "Epoch 7, Validation Accuracy: 96.73%\n",
            "Epoch 8, Validation Accuracy: 97.51%\n",
            "Epoch 9, Validation Accuracy: 97.14%\n",
            "Epoch 10, Validation Accuracy: 97.60%\n",
            "Epoch 11, Validation Accuracy: 97.40%\n",
            "Epoch 12, Validation Accuracy: 97.43%\n",
            "Epoch 13, Validation Accuracy: 97.67%\n",
            "Epoch 14, Validation Accuracy: 97.33%\n",
            "Epoch 15, Validation Accuracy: 97.78%\n",
            "Epoch 16, Validation Accuracy: 97.85%\n",
            "Epoch 17, Validation Accuracy: 97.80%\n",
            "Epoch 18, Validation Accuracy: 97.93%\n",
            "Epoch 19, Validation Accuracy: 97.71%\n",
            "Epoch 20, Validation Accuracy: 97.84%\n",
            "Finished Training\n",
            "Validation accuracies for each epoch:\n",
            "[0.0, 94.54, 96.24, 96.08, 97.09, 97.63, 97.45, 96.73, 97.51, 97.14, 97.6, 97.4, 97.43, 97.67, 97.33, 97.78, 97.85, 97.8, 97.93, 97.71, 97.84]\n"
          ]
        }
      ]
    },
    {
      "cell_type": "code",
      "source": [
        "validation_accuracies_mlp_mnist = [0.0, 95.1, 96.73, 96.42, 96.15, 97.8, 97.64, 97.58, 97.9, 97.63, 97.5, 97.34, 97.42, 97.42, 96.03, 97.34, 97.83, 97.46, 97.62, 97.05, 97.71]"
      ],
      "metadata": {
        "id": "FMB4LGhBqSIk"
      },
      "execution_count": 58,
      "outputs": []
    },
    {
      "cell_type": "code",
      "source": [
        "# Load MNIST\n",
        "transform = transforms.Compose([\n",
        "    transforms.ToTensor(),\n",
        "    transforms.Normalize((0.5,), (0.5,))\n",
        "])\n",
        "trainset = torchvision.datasets.MNIST(root=\"./data\", train=True, download=True, transform=transform)  # Use MNIST dataset\n",
        "valset = torchvision.datasets.MNIST(root=\"./data\", train=False, download=True, transform=transform)  # Use MNIST dataset\n",
        "trainloader = DataLoader(trainset, batch_size=64, shuffle=True)\n",
        "valloader = DataLoader(valset, batch_size=64, shuffle=False)\n",
        "\n",
        "# Define model\n",
        "model = KAN([784, 256, 10])  # Adjust input size to 784 (28x28), output size to 10 (for MNIST classes)\n",
        "device = torch.device(\"cuda\" if torch.cuda.is_available() else \"cpu\")\n",
        "model.to(device)\n",
        "\n",
        "# Define optimizer\n",
        "optimizer = optim.AdamW(model.parameters(), lr=1e-3, weight_decay=1e-4)\n",
        "\n",
        "# Define learning rate scheduler\n",
        "scheduler = optim.lr_scheduler.ExponentialLR(optimizer, gamma=0.8)\n",
        "\n",
        "# Define loss\n",
        "criterion = nn.CrossEntropyLoss()\n",
        "validation_accuracies_kan_mnist = []\n",
        "\n",
        "with torch.no_grad():\n",
        "    for images, labels in valloader:\n",
        "        images = images.view(-1, 784).to(device)  # Adjust input size to 784 (28x28)\n",
        "        output = model(images)\n",
        "    val_accuracy = ((output.argmax(dim=1) == labels.to(device)).float().mean().item()) / len(valloader)\n",
        "    validation_accuracies_kan_mnist.append(val_accuracy)\n",
        "print(f\"Epoch {0}, Val Accuracy: {val_accuracy}\")\n",
        "\n",
        "for epoch in range(20):\n",
        "    # Train\n",
        "    model.train()\n",
        "    with tqdm(trainloader) as pbar:\n",
        "        for i, (images, labels) in enumerate(pbar):\n",
        "            images = images.view(-1, 784).to(device)  # Adjust input size to 784 (28x28)\n",
        "            optimizer.zero_grad()\n",
        "            output = model(images)\n",
        "            loss = criterion(output, labels.to(device))\n",
        "            loss.backward()\n",
        "            optimizer.step()\n",
        "            accuracy = (output.argmax(dim=1) == labels.to(device)).float().mean()\n",
        "            pbar.set_postfix(loss=loss.item(), accuracy=accuracy.item(), lr=optimizer.param_groups[0]['lr'])\n",
        "\n",
        "    # Validation\n",
        "    model.eval()\n",
        "    val_loss = 0\n",
        "    val_accuracy = 0\n",
        "    with torch.no_grad():\n",
        "        for images, labels in valloader:\n",
        "            images = images.view(-1, 784).to(device)  # Adjust input size to 784 (28x28)\n",
        "            output = model(images)\n",
        "            val_loss += criterion(output, labels.to(device)).item()\n",
        "            val_accuracy += ((output.argmax(dim=1) == labels.to(device)).float().mean().item())\n",
        "    val_loss /= len(valloader)\n",
        "    val_accuracy /= len(valloader)\n",
        "    validation_accuracies_kan_mnist.append(val_accuracy)\n",
        "\n",
        "    # Update learning rate\n",
        "    scheduler.step()\n",
        "\n",
        "    print(f\"Epoch {epoch + 1}, Val Loss: {val_loss}, Val Accuracy: {val_accuracy}\")\n",
        "    print(validation_accuracies_kan_mnist)\n",
        "\n",
        "torch.save(model.state_dict(), 'mnist_kan_model_state_dict.pth')"
      ],
      "metadata": {
        "colab": {
          "base_uri": "https://localhost:8080/"
        },
        "id": "QVRZ5oBMnUC0",
        "outputId": "89e413ab-dc7a-4146-bada-d8f4fa2fa006"
      },
      "execution_count": 59,
      "outputs": [
        {
          "output_type": "stream",
          "name": "stdout",
          "text": [
            "Epoch 0, Val Accuracy: 0.0015923566878980893\n"
          ]
        },
        {
          "output_type": "stream",
          "name": "stderr",
          "text": [
            "100%|██████████| 938/938 [00:20<00:00, 44.96it/s, accuracy=0.906, loss=0.27, lr=0.001]\n"
          ]
        },
        {
          "output_type": "stream",
          "name": "stdout",
          "text": [
            "Epoch 1, Val Loss: 0.17216931028991558, Val Accuracy: 0.9510350318471338\n",
            "[0.0015923566878980893, 0.9510350318471338]\n"
          ]
        },
        {
          "output_type": "stream",
          "name": "stderr",
          "text": [
            "100%|██████████| 938/938 [00:20<00:00, 46.27it/s, accuracy=0.969, loss=0.204, lr=0.0008]\n"
          ]
        },
        {
          "output_type": "stream",
          "name": "stdout",
          "text": [
            "Epoch 2, Val Loss: 0.1574047013974873, Val Accuracy: 0.9510350318471338\n",
            "[0.0015923566878980893, 0.9510350318471338, 0.9510350318471338]\n"
          ]
        },
        {
          "output_type": "stream",
          "name": "stderr",
          "text": [
            "100%|██████████| 938/938 [00:20<00:00, 46.82it/s, accuracy=1, loss=0.031, lr=0.00064]\n"
          ]
        },
        {
          "output_type": "stream",
          "name": "stdout",
          "text": [
            "Epoch 3, Val Loss: 0.12472753339724402, Val Accuracy: 0.9631767515923567\n",
            "[0.0015923566878980893, 0.9510350318471338, 0.9510350318471338, 0.9631767515923567]\n"
          ]
        },
        {
          "output_type": "stream",
          "name": "stderr",
          "text": [
            "100%|██████████| 938/938 [00:20<00:00, 46.07it/s, accuracy=1, loss=0.00713, lr=0.000512]\n"
          ]
        },
        {
          "output_type": "stream",
          "name": "stdout",
          "text": [
            "Epoch 4, Val Loss: 0.10459722055045882, Val Accuracy: 0.9688495222929936\n",
            "[0.0015923566878980893, 0.9510350318471338, 0.9510350318471338, 0.9631767515923567, 0.9688495222929936]\n"
          ]
        },
        {
          "output_type": "stream",
          "name": "stderr",
          "text": [
            "100%|██████████| 938/938 [00:20<00:00, 45.72it/s, accuracy=1, loss=0.0091, lr=0.00041]\n"
          ]
        },
        {
          "output_type": "stream",
          "name": "stdout",
          "text": [
            "Epoch 5, Val Loss: 0.10787740168565807, Val Accuracy: 0.9674562101910829\n",
            "[0.0015923566878980893, 0.9510350318471338, 0.9510350318471338, 0.9631767515923567, 0.9688495222929936, 0.9674562101910829]\n"
          ]
        },
        {
          "output_type": "stream",
          "name": "stderr",
          "text": [
            "100%|██████████| 938/938 [00:20<00:00, 45.76it/s, accuracy=1, loss=0.00814, lr=0.000328]\n"
          ]
        },
        {
          "output_type": "stream",
          "name": "stdout",
          "text": [
            "Epoch 6, Val Loss: 0.09268355227635719, Val Accuracy: 0.9721337579617835\n",
            "[0.0015923566878980893, 0.9510350318471338, 0.9510350318471338, 0.9631767515923567, 0.9688495222929936, 0.9674562101910829, 0.9721337579617835]\n"
          ]
        },
        {
          "output_type": "stream",
          "name": "stderr",
          "text": [
            "100%|██████████| 938/938 [00:19<00:00, 47.53it/s, accuracy=1, loss=0.0193, lr=0.000262]\n"
          ]
        },
        {
          "output_type": "stream",
          "name": "stdout",
          "text": [
            "Epoch 7, Val Loss: 0.0782727257548431, Val Accuracy: 0.9775079617834395\n",
            "[0.0015923566878980893, 0.9510350318471338, 0.9510350318471338, 0.9631767515923567, 0.9688495222929936, 0.9674562101910829, 0.9721337579617835, 0.9775079617834395]\n"
          ]
        },
        {
          "output_type": "stream",
          "name": "stderr",
          "text": [
            "100%|██████████| 938/938 [00:19<00:00, 46.96it/s, accuracy=1, loss=0.00052, lr=0.00021]\n"
          ]
        },
        {
          "output_type": "stream",
          "name": "stdout",
          "text": [
            "Epoch 8, Val Loss: 0.08085427793178201, Val Accuracy: 0.9783041401273885\n",
            "[0.0015923566878980893, 0.9510350318471338, 0.9510350318471338, 0.9631767515923567, 0.9688495222929936, 0.9674562101910829, 0.9721337579617835, 0.9775079617834395, 0.9783041401273885]\n"
          ]
        },
        {
          "output_type": "stream",
          "name": "stderr",
          "text": [
            "100%|██████████| 938/938 [00:21<00:00, 43.05it/s, accuracy=1, loss=0.00147, lr=0.000168]\n"
          ]
        },
        {
          "output_type": "stream",
          "name": "stdout",
          "text": [
            "Epoch 9, Val Loss: 0.07825306637478555, Val Accuracy: 0.9785031847133758\n",
            "[0.0015923566878980893, 0.9510350318471338, 0.9510350318471338, 0.9631767515923567, 0.9688495222929936, 0.9674562101910829, 0.9721337579617835, 0.9775079617834395, 0.9783041401273885, 0.9785031847133758]\n"
          ]
        },
        {
          "output_type": "stream",
          "name": "stderr",
          "text": [
            "100%|██████████| 938/938 [00:20<00:00, 45.45it/s, accuracy=1, loss=0.000737, lr=0.000134]\n"
          ]
        },
        {
          "output_type": "stream",
          "name": "stdout",
          "text": [
            "Epoch 10, Val Loss: 0.07428163105332657, Val Accuracy: 0.9791998407643312\n",
            "[0.0015923566878980893, 0.9510350318471338, 0.9510350318471338, 0.9631767515923567, 0.9688495222929936, 0.9674562101910829, 0.9721337579617835, 0.9775079617834395, 0.9783041401273885, 0.9785031847133758, 0.9791998407643312]\n"
          ]
        },
        {
          "output_type": "stream",
          "name": "stderr",
          "text": [
            "100%|██████████| 938/938 [00:20<00:00, 45.71it/s, accuracy=1, loss=0.000344, lr=0.000107]\n"
          ]
        },
        {
          "output_type": "stream",
          "name": "stdout",
          "text": [
            "Epoch 11, Val Loss: 0.07581217787129349, Val Accuracy: 0.9795979299363057\n",
            "[0.0015923566878980893, 0.9510350318471338, 0.9510350318471338, 0.9631767515923567, 0.9688495222929936, 0.9674562101910829, 0.9721337579617835, 0.9775079617834395, 0.9783041401273885, 0.9785031847133758, 0.9791998407643312, 0.9795979299363057]\n"
          ]
        },
        {
          "output_type": "stream",
          "name": "stderr",
          "text": [
            "100%|██████████| 938/938 [00:19<00:00, 47.09it/s, accuracy=1, loss=0.000254, lr=8.59e-5]\n"
          ]
        },
        {
          "output_type": "stream",
          "name": "stdout",
          "text": [
            "Epoch 12, Val Loss: 0.07577508872869819, Val Accuracy: 0.9798964968152867\n",
            "[0.0015923566878980893, 0.9510350318471338, 0.9510350318471338, 0.9631767515923567, 0.9688495222929936, 0.9674562101910829, 0.9721337579617835, 0.9775079617834395, 0.9783041401273885, 0.9785031847133758, 0.9791998407643312, 0.9795979299363057, 0.9798964968152867]\n"
          ]
        },
        {
          "output_type": "stream",
          "name": "stderr",
          "text": [
            "100%|██████████| 938/938 [00:19<00:00, 47.27it/s, accuracy=1, loss=0.00114, lr=6.87e-5]\n"
          ]
        },
        {
          "output_type": "stream",
          "name": "stdout",
          "text": [
            "Epoch 13, Val Loss: 0.07758520606157211, Val Accuracy: 0.9795979299363057\n",
            "[0.0015923566878980893, 0.9510350318471338, 0.9510350318471338, 0.9631767515923567, 0.9688495222929936, 0.9674562101910829, 0.9721337579617835, 0.9775079617834395, 0.9783041401273885, 0.9785031847133758, 0.9791998407643312, 0.9795979299363057, 0.9798964968152867, 0.9795979299363057]\n"
          ]
        },
        {
          "output_type": "stream",
          "name": "stderr",
          "text": [
            "100%|██████████| 938/938 [00:20<00:00, 46.05it/s, accuracy=1, loss=0.000175, lr=5.5e-5]\n"
          ]
        },
        {
          "output_type": "stream",
          "name": "stdout",
          "text": [
            "Epoch 14, Val Loss: 0.07858442159977709, Val Accuracy: 0.9794984076433121\n",
            "[0.0015923566878980893, 0.9510350318471338, 0.9510350318471338, 0.9631767515923567, 0.9688495222929936, 0.9674562101910829, 0.9721337579617835, 0.9775079617834395, 0.9783041401273885, 0.9785031847133758, 0.9791998407643312, 0.9795979299363057, 0.9798964968152867, 0.9795979299363057, 0.9794984076433121]\n"
          ]
        },
        {
          "output_type": "stream",
          "name": "stderr",
          "text": [
            "100%|██████████| 938/938 [00:21<00:00, 44.65it/s, accuracy=1, loss=6.11e-5, lr=4.4e-5]\n"
          ]
        },
        {
          "output_type": "stream",
          "name": "stdout",
          "text": [
            "Epoch 15, Val Loss: 0.07998007986101306, Val Accuracy: 0.9792993630573248\n",
            "[0.0015923566878980893, 0.9510350318471338, 0.9510350318471338, 0.9631767515923567, 0.9688495222929936, 0.9674562101910829, 0.9721337579617835, 0.9775079617834395, 0.9783041401273885, 0.9785031847133758, 0.9791998407643312, 0.9795979299363057, 0.9798964968152867, 0.9795979299363057, 0.9794984076433121, 0.9792993630573248]\n"
          ]
        },
        {
          "output_type": "stream",
          "name": "stderr",
          "text": [
            "100%|██████████| 938/938 [00:20<00:00, 46.32it/s, accuracy=1, loss=0.000406, lr=3.52e-5]\n"
          ]
        },
        {
          "output_type": "stream",
          "name": "stdout",
          "text": [
            "Epoch 16, Val Loss: 0.07892821461250547, Val Accuracy: 0.9795979299363057\n",
            "[0.0015923566878980893, 0.9510350318471338, 0.9510350318471338, 0.9631767515923567, 0.9688495222929936, 0.9674562101910829, 0.9721337579617835, 0.9775079617834395, 0.9783041401273885, 0.9785031847133758, 0.9791998407643312, 0.9795979299363057, 0.9798964968152867, 0.9795979299363057, 0.9794984076433121, 0.9792993630573248, 0.9795979299363057]\n"
          ]
        },
        {
          "output_type": "stream",
          "name": "stderr",
          "text": [
            "100%|██████████| 938/938 [00:20<00:00, 46.49it/s, accuracy=1, loss=0.00045, lr=2.81e-5]\n"
          ]
        },
        {
          "output_type": "stream",
          "name": "stdout",
          "text": [
            "Epoch 17, Val Loss: 0.07997778836052948, Val Accuracy: 0.9800955414012739\n",
            "[0.0015923566878980893, 0.9510350318471338, 0.9510350318471338, 0.9631767515923567, 0.9688495222929936, 0.9674562101910829, 0.9721337579617835, 0.9775079617834395, 0.9783041401273885, 0.9785031847133758, 0.9791998407643312, 0.9795979299363057, 0.9798964968152867, 0.9795979299363057, 0.9794984076433121, 0.9792993630573248, 0.9795979299363057, 0.9800955414012739]\n"
          ]
        },
        {
          "output_type": "stream",
          "name": "stderr",
          "text": [
            "100%|██████████| 938/938 [00:20<00:00, 45.53it/s, accuracy=1, loss=7.66e-5, lr=2.25e-5]\n"
          ]
        },
        {
          "output_type": "stream",
          "name": "stdout",
          "text": [
            "Epoch 18, Val Loss: 0.0795369040814511, Val Accuracy: 0.9798964968152867\n",
            "[0.0015923566878980893, 0.9510350318471338, 0.9510350318471338, 0.9631767515923567, 0.9688495222929936, 0.9674562101910829, 0.9721337579617835, 0.9775079617834395, 0.9783041401273885, 0.9785031847133758, 0.9791998407643312, 0.9795979299363057, 0.9798964968152867, 0.9795979299363057, 0.9794984076433121, 0.9792993630573248, 0.9795979299363057, 0.9800955414012739, 0.9798964968152867]\n"
          ]
        },
        {
          "output_type": "stream",
          "name": "stderr",
          "text": [
            "100%|██████████| 938/938 [00:20<00:00, 44.97it/s, accuracy=1, loss=9.01e-5, lr=1.8e-5]\n"
          ]
        },
        {
          "output_type": "stream",
          "name": "stdout",
          "text": [
            "Epoch 19, Val Loss: 0.08020847631405559, Val Accuracy: 0.9800955414012739\n",
            "[0.0015923566878980893, 0.9510350318471338, 0.9510350318471338, 0.9631767515923567, 0.9688495222929936, 0.9674562101910829, 0.9721337579617835, 0.9775079617834395, 0.9783041401273885, 0.9785031847133758, 0.9791998407643312, 0.9795979299363057, 0.9798964968152867, 0.9795979299363057, 0.9794984076433121, 0.9792993630573248, 0.9795979299363057, 0.9800955414012739, 0.9798964968152867, 0.9800955414012739]\n"
          ]
        },
        {
          "output_type": "stream",
          "name": "stderr",
          "text": [
            "100%|██████████| 938/938 [00:20<00:00, 45.16it/s, accuracy=1, loss=0.000209, lr=1.44e-5]\n"
          ]
        },
        {
          "output_type": "stream",
          "name": "stdout",
          "text": [
            "Epoch 20, Val Loss: 0.08090068824281962, Val Accuracy: 0.9800955414012739\n",
            "[0.0015923566878980893, 0.9510350318471338, 0.9510350318471338, 0.9631767515923567, 0.9688495222929936, 0.9674562101910829, 0.9721337579617835, 0.9775079617834395, 0.9783041401273885, 0.9785031847133758, 0.9791998407643312, 0.9795979299363057, 0.9798964968152867, 0.9795979299363057, 0.9794984076433121, 0.9792993630573248, 0.9795979299363057, 0.9800955414012739, 0.9798964968152867, 0.9800955414012739, 0.9800955414012739]\n"
          ]
        }
      ]
    },
    {
      "cell_type": "code",
      "source": [
        "validation_accuracies_kan_mnist = [0.0015923566878980893, 0.9510350318471338, 0.9510350318471338, 0.9631767515923567, 0.9688495222929936, 0.9674562101910829, 0.9721337579617835, 0.9775079617834395, 0.9783041401273885, 0.9785031847133758, 0.9791998407643312, 0.9795979299363057, 0.9798964968152867, 0.9795979299363057, 0.9794984076433121, 0.9792993630573248, 0.9795979299363057, 0.9800955414012739, 0.9798964968152867, 0.9800955414012739, 0.9800955414012739]"
      ],
      "metadata": {
        "id": "TsQqxL2QskGk"
      },
      "execution_count": 62,
      "outputs": []
    },
    {
      "cell_type": "code",
      "source": [
        "epoch = np.arange(21)\n",
        "print(len(validation_accuracies_kan_mnist))\n",
        "plt.plot(epoch[1:], validation_accuracies_mlp_mnist[1:], label='MLP Accuracy')\n",
        "plt.plot(epoch[1:], [100*i for i in validation_accuracies_kan_mnist][1:], label='KAN Accuracy')\n",
        "\n",
        "plt.xlabel('Epoch')\n",
        "plt.ylabel('Validation Accuracy %')\n",
        "plt.title('MLP vs. KAN Validation Accuracies on MNIST')\n",
        "plt.legend()\n",
        "plt.xticks(range(0, 21, 5))"
      ],
      "metadata": {
        "colab": {
          "base_uri": "https://localhost:8080/",
          "height": 668
        },
        "id": "FFqBcmqKqVTS",
        "outputId": "652ee603-0f30-42c8-ea39-0e6362112006"
      },
      "execution_count": 66,
      "outputs": [
        {
          "output_type": "stream",
          "name": "stdout",
          "text": [
            "21\n"
          ]
        },
        {
          "output_type": "execute_result",
          "data": {
            "text/plain": [
              "([<matplotlib.axis.XTick at 0x7c07c760b2e0>,\n",
              "  <matplotlib.axis.XTick at 0x7c07c760bb80>,\n",
              "  <matplotlib.axis.XTick at 0x7c07c5c296f0>,\n",
              "  <matplotlib.axis.XTick at 0x7c07c76b5f90>,\n",
              "  <matplotlib.axis.XTick at 0x7c07c76b5060>],\n",
              " [Text(0, 0, '0'),\n",
              "  Text(5, 0, '5'),\n",
              "  Text(10, 0, '10'),\n",
              "  Text(15, 0, '15'),\n",
              "  Text(20, 0, '20')])"
            ]
          },
          "metadata": {},
          "execution_count": 66
        },
        {
          "output_type": "display_data",
          "data": {
            "text/plain": [
              "<Figure size 640x480 with 1 Axes>"
            ],
            "image/png": "[encoded data removed]"
          },
          "metadata": {}
        }
      ]
    },
    {
      "cell_type": "code",
      "source": [],
      "metadata": {
        "id": "OtCCQMvrspXZ"
      },
      "execution_count": null,
      "outputs": []
    }
  ]
}